{
 "cells": [
  {
   "cell_type": "code",
   "execution_count": 10,
   "metadata": {},
   "outputs": [],
   "source": [
    "import argparse\n",
    "import networkx as nx\n",
    "import pandas as pd\n",
    "from tqdm import tqdm\n",
    "from pymongo import MongoClient\n",
    "from gqlalchemy import Memgraph\n",
    "from sklearn.cluster import KMeans\n",
    "from matplotlib import pyplot as plt\n",
    "from pathlib import Path"
   ]
  },
  {
   "cell_type": "code",
   "execution_count": 11,
   "metadata": {},
   "outputs": [],
   "source": [
    "def get_mongo_collection(mongo_db, database_name, collection_name):\n",
    "    # mongo_db = MongoClient(\"mongodb://localhost:27017\")\n",
    "    return mongo_db[database_name][collection_name]\n",
    "\n",
    "mongo_db = MongoClient(\"mongodb://localhost:27017\")"
   ]
  },
  {
   "cell_type": "code",
   "execution_count": 12,
   "metadata": {},
   "outputs": [],
   "source": [
    "PROPERTIES = [\n",
    "        \"fired\",\n",
    "        \"fired_fraction\",\n",
    "        \"activity\",\n",
    "        \"dampening\",\n",
    "        \"current_calcium\",\n",
    "        \"target_calcium\",\n",
    "        \"synaptic_input\",\n",
    "        \"background_input\",\n",
    "        \"grown_axons\",\n",
    "        \"connected_axons\",\n",
    "        \"grown_dendrites\",\n",
    "        \"connected_dendrites\",\n",
    "    ]"
   ]
  },
  {
   "cell_type": "code",
   "execution_count": 13,
   "metadata": {},
   "outputs": [
    {
     "name": "stderr",
     "output_type": "stream",
     "text": [
      "  0%|          | 1/10000 [00:45<127:24:20, 45.87s/it]\n"
     ]
    },
    {
     "ename": "KeyboardInterrupt",
     "evalue": "",
     "output_type": "error",
     "traceback": [
      "\u001b[1;31m---------------------------------------------------------------------------\u001b[0m",
      "\u001b[1;31mKeyboardInterrupt\u001b[0m                         Traceback (most recent call last)",
      "Cell \u001b[1;32mIn[13], line 13\u001b[0m\n\u001b[0;32m     11\u001b[0m \u001b[39mfor\u001b[39;00m current_property \u001b[39min\u001b[39;00m PROPERTIES:\n\u001b[0;32m     12\u001b[0m     big_documents\u001b[39m.\u001b[39mappend({\u001b[39m\"\u001b[39m\u001b[39mstep\u001b[39m\u001b[39m\"\u001b[39m: current_step, \u001b[39m\"\u001b[39m\u001b[39mproperty\u001b[39m\u001b[39m\"\u001b[39m: current_property, \u001b[39m\"\u001b[39m\u001b[39mvalues\u001b[39m\u001b[39m\"\u001b[39m: \u001b[39mlist\u001b[39m(\u001b[39mmap\u001b[39m(\u001b[39mlambda\u001b[39;00m x: x[current_property], results))})\n\u001b[1;32m---> 13\u001b[0m insertion_res \u001b[39m=\u001b[39m write_to_collection\u001b[39m.\u001b[39;49minsert_many(big_documents)\n",
      "File \u001b[1;32mc:\\Users\\corne\\.virtualenvs\\dis-mDRCutPA\\lib\\site-packages\\pymongo\\_csot.py:105\u001b[0m, in \u001b[0;36mapply.<locals>.csot_wrapper\u001b[1;34m(self, *args, **kwargs)\u001b[0m\n\u001b[0;32m    103\u001b[0m         \u001b[39mwith\u001b[39;00m _TimeoutContext(timeout):\n\u001b[0;32m    104\u001b[0m             \u001b[39mreturn\u001b[39;00m func(\u001b[39mself\u001b[39m, \u001b[39m*\u001b[39margs, \u001b[39m*\u001b[39m\u001b[39m*\u001b[39mkwargs)\n\u001b[1;32m--> 105\u001b[0m \u001b[39mreturn\u001b[39;00m func(\u001b[39mself\u001b[39m, \u001b[39m*\u001b[39margs, \u001b[39m*\u001b[39m\u001b[39m*\u001b[39mkwargs)\n",
      "File \u001b[1;32mc:\\Users\\corne\\.virtualenvs\\dis-mDRCutPA\\lib\\site-packages\\pymongo\\collection.py:714\u001b[0m, in \u001b[0;36mCollection.insert_many\u001b[1;34m(self, documents, ordered, bypass_document_validation, session, comment)\u001b[0m\n\u001b[0;32m    712\u001b[0m blk \u001b[39m=\u001b[39m _Bulk(\u001b[39mself\u001b[39m, ordered, bypass_document_validation, comment\u001b[39m=\u001b[39mcomment)\n\u001b[0;32m    713\u001b[0m blk\u001b[39m.\u001b[39mops \u001b[39m=\u001b[39m [doc \u001b[39mfor\u001b[39;00m doc \u001b[39min\u001b[39;00m gen()]\n\u001b[1;32m--> 714\u001b[0m blk\u001b[39m.\u001b[39;49mexecute(write_concern, session\u001b[39m=\u001b[39;49msession)\n\u001b[0;32m    715\u001b[0m \u001b[39mreturn\u001b[39;00m InsertManyResult(inserted_ids, write_concern\u001b[39m.\u001b[39macknowledged)\n",
      "File \u001b[1;32mc:\\Users\\corne\\.virtualenvs\\dis-mDRCutPA\\lib\\site-packages\\pymongo\\bulk.py:513\u001b[0m, in \u001b[0;36m_Bulk.execute\u001b[1;34m(self, write_concern, session)\u001b[0m\n\u001b[0;32m    511\u001b[0m         \u001b[39mself\u001b[39m\u001b[39m.\u001b[39mexecute_no_results(sock_info, generator, write_concern)\n\u001b[0;32m    512\u001b[0m \u001b[39melse\u001b[39;00m:\n\u001b[1;32m--> 513\u001b[0m     \u001b[39mreturn\u001b[39;00m \u001b[39mself\u001b[39;49m\u001b[39m.\u001b[39;49mexecute_command(generator, write_concern, session)\n",
      "File \u001b[1;32mc:\\Users\\corne\\.virtualenvs\\dis-mDRCutPA\\lib\\site-packages\\pymongo\\bulk.py:391\u001b[0m, in \u001b[0;36m_Bulk.execute_command\u001b[1;34m(self, generator, write_concern, session)\u001b[0m\n\u001b[0;32m    389\u001b[0m client \u001b[39m=\u001b[39m \u001b[39mself\u001b[39m\u001b[39m.\u001b[39mcollection\u001b[39m.\u001b[39mdatabase\u001b[39m.\u001b[39mclient\n\u001b[0;32m    390\u001b[0m \u001b[39mwith\u001b[39;00m client\u001b[39m.\u001b[39m_tmp_session(session) \u001b[39mas\u001b[39;00m s:\n\u001b[1;32m--> 391\u001b[0m     client\u001b[39m.\u001b[39;49m_retry_with_session(\u001b[39mself\u001b[39;49m\u001b[39m.\u001b[39;49mis_retryable, retryable_bulk, s, \u001b[39mself\u001b[39;49m)\n\u001b[0;32m    393\u001b[0m \u001b[39mif\u001b[39;00m full_result[\u001b[39m\"\u001b[39m\u001b[39mwriteErrors\u001b[39m\u001b[39m\"\u001b[39m] \u001b[39mor\u001b[39;00m full_result[\u001b[39m\"\u001b[39m\u001b[39mwriteConcernErrors\u001b[39m\u001b[39m\"\u001b[39m]:\n\u001b[0;32m    394\u001b[0m     _raise_bulk_write_error(full_result)\n",
      "File \u001b[1;32mc:\\Users\\corne\\.virtualenvs\\dis-mDRCutPA\\lib\\site-packages\\pymongo\\mongo_client.py:1349\u001b[0m, in \u001b[0;36mMongoClient._retry_with_session\u001b[1;34m(self, retryable, func, session, bulk)\u001b[0m\n\u001b[0;32m   1339\u001b[0m \u001b[39m\u001b[39m\u001b[39m\"\"\"Execute an operation with at most one consecutive retries\u001b[39;00m\n\u001b[0;32m   1340\u001b[0m \n\u001b[0;32m   1341\u001b[0m \u001b[39mReturns func()'s return value on success. On error retries the same\u001b[39;00m\n\u001b[1;32m   (...)\u001b[0m\n\u001b[0;32m   1344\u001b[0m \u001b[39mRe-raises any exception thrown by func().\u001b[39;00m\n\u001b[0;32m   1345\u001b[0m \u001b[39m\"\"\"\u001b[39;00m\n\u001b[0;32m   1346\u001b[0m retryable \u001b[39m=\u001b[39m (\n\u001b[0;32m   1347\u001b[0m     retryable \u001b[39mand\u001b[39;00m \u001b[39mself\u001b[39m\u001b[39m.\u001b[39moptions\u001b[39m.\u001b[39mretry_writes \u001b[39mand\u001b[39;00m session \u001b[39mand\u001b[39;00m \u001b[39mnot\u001b[39;00m session\u001b[39m.\u001b[39min_transaction\n\u001b[0;32m   1348\u001b[0m )\n\u001b[1;32m-> 1349\u001b[0m \u001b[39mreturn\u001b[39;00m \u001b[39mself\u001b[39;49m\u001b[39m.\u001b[39;49m_retry_internal(retryable, func, session, bulk)\n",
      "File \u001b[1;32mc:\\Users\\corne\\.virtualenvs\\dis-mDRCutPA\\lib\\site-packages\\pymongo\\_csot.py:105\u001b[0m, in \u001b[0;36mapply.<locals>.csot_wrapper\u001b[1;34m(self, *args, **kwargs)\u001b[0m\n\u001b[0;32m    103\u001b[0m         \u001b[39mwith\u001b[39;00m _TimeoutContext(timeout):\n\u001b[0;32m    104\u001b[0m             \u001b[39mreturn\u001b[39;00m func(\u001b[39mself\u001b[39m, \u001b[39m*\u001b[39margs, \u001b[39m*\u001b[39m\u001b[39m*\u001b[39mkwargs)\n\u001b[1;32m--> 105\u001b[0m \u001b[39mreturn\u001b[39;00m func(\u001b[39mself\u001b[39m, \u001b[39m*\u001b[39margs, \u001b[39m*\u001b[39m\u001b[39m*\u001b[39mkwargs)\n",
      "File \u001b[1;32mc:\\Users\\corne\\.virtualenvs\\dis-mDRCutPA\\lib\\site-packages\\pymongo\\mongo_client.py:1390\u001b[0m, in \u001b[0;36mMongoClient._retry_internal\u001b[1;34m(self, retryable, func, session, bulk)\u001b[0m\n\u001b[0;32m   1388\u001b[0m                 \u001b[39mraise\u001b[39;00m last_error\n\u001b[0;32m   1389\u001b[0m             retryable \u001b[39m=\u001b[39m \u001b[39mFalse\u001b[39;00m\n\u001b[1;32m-> 1390\u001b[0m         \u001b[39mreturn\u001b[39;00m func(session, sock_info, retryable)\n\u001b[0;32m   1391\u001b[0m \u001b[39mexcept\u001b[39;00m ServerSelectionTimeoutError:\n\u001b[0;32m   1392\u001b[0m     \u001b[39mif\u001b[39;00m is_retrying():\n\u001b[0;32m   1393\u001b[0m         \u001b[39m# The application may think the write was never attempted\u001b[39;00m\n\u001b[0;32m   1394\u001b[0m         \u001b[39m# if we raise ServerSelectionTimeoutError on the retry\u001b[39;00m\n\u001b[0;32m   1395\u001b[0m         \u001b[39m# attempt. Raise the original exception instead.\u001b[39;00m\n",
      "File \u001b[1;32mc:\\Users\\corne\\.virtualenvs\\dis-mDRCutPA\\lib\\site-packages\\pymongo\\bulk.py:385\u001b[0m, in \u001b[0;36m_Bulk.execute_command.<locals>.retryable_bulk\u001b[1;34m(session, sock_info, retryable)\u001b[0m\n\u001b[0;32m    384\u001b[0m \u001b[39mdef\u001b[39;00m \u001b[39mretryable_bulk\u001b[39m(session, sock_info, retryable):\n\u001b[1;32m--> 385\u001b[0m     \u001b[39mself\u001b[39;49m\u001b[39m.\u001b[39;49m_execute_command(\n\u001b[0;32m    386\u001b[0m         generator, write_concern, session, sock_info, op_id, retryable, full_result\n\u001b[0;32m    387\u001b[0m     )\n",
      "File \u001b[1;32mc:\\Users\\corne\\.virtualenvs\\dis-mDRCutPA\\lib\\site-packages\\pymongo\\bulk.py:338\u001b[0m, in \u001b[0;36m_Bulk._execute_command\u001b[1;34m(self, generator, write_concern, session, sock_info, op_id, retryable, full_result, final_write_concern)\u001b[0m\n\u001b[0;32m    336\u001b[0m \u001b[39m# Run as many ops as possible in one command.\u001b[39;00m\n\u001b[0;32m    337\u001b[0m \u001b[39mif\u001b[39;00m write_concern\u001b[39m.\u001b[39macknowledged:\n\u001b[1;32m--> 338\u001b[0m     result, to_send \u001b[39m=\u001b[39m bwc\u001b[39m.\u001b[39;49mexecute(cmd, ops, client)\n\u001b[0;32m    340\u001b[0m     \u001b[39m# Retryable writeConcernErrors halt the execution of this run.\u001b[39;00m\n\u001b[0;32m    341\u001b[0m     wce \u001b[39m=\u001b[39m result\u001b[39m.\u001b[39mget(\u001b[39m\"\u001b[39m\u001b[39mwriteConcernError\u001b[39m\u001b[39m\"\u001b[39m, {})\n",
      "File \u001b[1;32mc:\\Users\\corne\\.virtualenvs\\dis-mDRCutPA\\lib\\site-packages\\pymongo\\message.py:842\u001b[0m, in \u001b[0;36m_BulkWriteContext.execute\u001b[1;34m(self, cmd, docs, client)\u001b[0m\n\u001b[0;32m    840\u001b[0m \u001b[39mdef\u001b[39;00m \u001b[39mexecute\u001b[39m(\u001b[39mself\u001b[39m, cmd, docs, client):\n\u001b[0;32m    841\u001b[0m     request_id, msg, to_send \u001b[39m=\u001b[39m \u001b[39mself\u001b[39m\u001b[39m.\u001b[39m_batch_command(cmd, docs)\n\u001b[1;32m--> 842\u001b[0m     result \u001b[39m=\u001b[39m \u001b[39mself\u001b[39;49m\u001b[39m.\u001b[39;49mwrite_command(cmd, request_id, msg, to_send)\n\u001b[0;32m    843\u001b[0m     client\u001b[39m.\u001b[39m_process_response(result, \u001b[39mself\u001b[39m\u001b[39m.\u001b[39msession)\n\u001b[0;32m    844\u001b[0m     \u001b[39mreturn\u001b[39;00m result, to_send\n",
      "File \u001b[1;32mc:\\Users\\corne\\.virtualenvs\\dis-mDRCutPA\\lib\\site-packages\\pymongo\\message.py:920\u001b[0m, in \u001b[0;36m_BulkWriteContext.write_command\u001b[1;34m(self, cmd, request_id, msg, docs)\u001b[0m\n\u001b[0;32m    918\u001b[0m     start \u001b[39m=\u001b[39m datetime\u001b[39m.\u001b[39mdatetime\u001b[39m.\u001b[39mnow()\n\u001b[0;32m    919\u001b[0m \u001b[39mtry\u001b[39;00m:\n\u001b[1;32m--> 920\u001b[0m     reply \u001b[39m=\u001b[39m \u001b[39mself\u001b[39;49m\u001b[39m.\u001b[39;49msock_info\u001b[39m.\u001b[39;49mwrite_command(request_id, msg, \u001b[39mself\u001b[39;49m\u001b[39m.\u001b[39;49mcodec)\n\u001b[0;32m    921\u001b[0m     \u001b[39mif\u001b[39;00m \u001b[39mself\u001b[39m\u001b[39m.\u001b[39mpublish:\n\u001b[0;32m    922\u001b[0m         duration \u001b[39m=\u001b[39m (datetime\u001b[39m.\u001b[39mdatetime\u001b[39m.\u001b[39mnow() \u001b[39m-\u001b[39m start) \u001b[39m+\u001b[39m duration\n",
      "File \u001b[1;32mc:\\Users\\corne\\.virtualenvs\\dis-mDRCutPA\\lib\\site-packages\\pymongo\\pool.py:853\u001b[0m, in \u001b[0;36mSocketInfo.write_command\u001b[1;34m(self, request_id, msg, codec_options)\u001b[0m\n\u001b[0;32m    844\u001b[0m \u001b[39m\u001b[39m\u001b[39m\"\"\"Send \"insert\" etc. command, returning response as a dict.\u001b[39;00m\n\u001b[0;32m    845\u001b[0m \n\u001b[0;32m    846\u001b[0m \u001b[39mCan raise ConnectionFailure or OperationFailure.\u001b[39;00m\n\u001b[1;32m   (...)\u001b[0m\n\u001b[0;32m    850\u001b[0m \u001b[39m  - `msg`: bytes, the command message.\u001b[39;00m\n\u001b[0;32m    851\u001b[0m \u001b[39m\"\"\"\u001b[39;00m\n\u001b[0;32m    852\u001b[0m \u001b[39mself\u001b[39m\u001b[39m.\u001b[39msend_message(msg, \u001b[39m0\u001b[39m)\n\u001b[1;32m--> 853\u001b[0m reply \u001b[39m=\u001b[39m \u001b[39mself\u001b[39;49m\u001b[39m.\u001b[39;49mreceive_message(request_id)\n\u001b[0;32m    854\u001b[0m result \u001b[39m=\u001b[39m reply\u001b[39m.\u001b[39mcommand_response(codec_options)\n\u001b[0;32m    856\u001b[0m \u001b[39m# Raises NotPrimaryError or OperationFailure.\u001b[39;00m\n",
      "File \u001b[1;32mc:\\Users\\corne\\.virtualenvs\\dis-mDRCutPA\\lib\\site-packages\\pymongo\\pool.py:821\u001b[0m, in \u001b[0;36mSocketInfo.receive_message\u001b[1;34m(self, request_id)\u001b[0m\n\u001b[0;32m    819\u001b[0m     \u001b[39mreturn\u001b[39;00m receive_message(\u001b[39mself\u001b[39m, request_id, \u001b[39mself\u001b[39m\u001b[39m.\u001b[39mmax_message_size)\n\u001b[0;32m    820\u001b[0m \u001b[39mexcept\u001b[39;00m \u001b[39mBaseException\u001b[39;00m \u001b[39mas\u001b[39;00m error:\n\u001b[1;32m--> 821\u001b[0m     \u001b[39mself\u001b[39;49m\u001b[39m.\u001b[39;49m_raise_connection_failure(error)\n",
      "File \u001b[1;32mc:\\Users\\corne\\.virtualenvs\\dis-mDRCutPA\\lib\\site-packages\\pymongo\\pool.py:819\u001b[0m, in \u001b[0;36mSocketInfo.receive_message\u001b[1;34m(self, request_id)\u001b[0m\n\u001b[0;32m    814\u001b[0m \u001b[39m\u001b[39m\u001b[39m\"\"\"Receive a raw BSON message or raise ConnectionFailure.\u001b[39;00m\n\u001b[0;32m    815\u001b[0m \n\u001b[0;32m    816\u001b[0m \u001b[39mIf any exception is raised, the socket is closed.\u001b[39;00m\n\u001b[0;32m    817\u001b[0m \u001b[39m\"\"\"\u001b[39;00m\n\u001b[0;32m    818\u001b[0m \u001b[39mtry\u001b[39;00m:\n\u001b[1;32m--> 819\u001b[0m     \u001b[39mreturn\u001b[39;00m receive_message(\u001b[39mself\u001b[39;49m, request_id, \u001b[39mself\u001b[39;49m\u001b[39m.\u001b[39;49mmax_message_size)\n\u001b[0;32m    820\u001b[0m \u001b[39mexcept\u001b[39;00m \u001b[39mBaseException\u001b[39;00m \u001b[39mas\u001b[39;00m error:\n\u001b[0;32m    821\u001b[0m     \u001b[39mself\u001b[39m\u001b[39m.\u001b[39m_raise_connection_failure(error)\n",
      "File \u001b[1;32mc:\\Users\\corne\\.virtualenvs\\dis-mDRCutPA\\lib\\site-packages\\pymongo\\network.py:217\u001b[0m, in \u001b[0;36mreceive_message\u001b[1;34m(sock_info, request_id, max_message_size)\u001b[0m\n\u001b[0;32m    214\u001b[0m         deadline \u001b[39m=\u001b[39m \u001b[39mNone\u001b[39;00m\n\u001b[0;32m    215\u001b[0m \u001b[39m# Ignore the response's request id.\u001b[39;00m\n\u001b[0;32m    216\u001b[0m length, _, response_to, op_code \u001b[39m=\u001b[39m _UNPACK_HEADER(\n\u001b[1;32m--> 217\u001b[0m     _receive_data_on_socket(sock_info, \u001b[39m16\u001b[39;49m, deadline)\n\u001b[0;32m    218\u001b[0m )\n\u001b[0;32m    219\u001b[0m \u001b[39m# No request_id for exhaust cursor \"getMore\".\u001b[39;00m\n\u001b[0;32m    220\u001b[0m \u001b[39mif\u001b[39;00m request_id \u001b[39mis\u001b[39;00m \u001b[39mnot\u001b[39;00m \u001b[39mNone\u001b[39;00m:\n",
      "File \u001b[1;32mc:\\Users\\corne\\.virtualenvs\\dis-mDRCutPA\\lib\\site-packages\\pymongo\\network.py:299\u001b[0m, in \u001b[0;36m_receive_data_on_socket\u001b[1;34m(sock_info, length, deadline)\u001b[0m\n\u001b[0;32m    297\u001b[0m     \u001b[39mif\u001b[39;00m _csot\u001b[39m.\u001b[39mget_timeout():\n\u001b[0;32m    298\u001b[0m         sock_info\u001b[39m.\u001b[39mset_socket_timeout(\u001b[39mmax\u001b[39m(deadline \u001b[39m-\u001b[39m time\u001b[39m.\u001b[39mmonotonic(), \u001b[39m0\u001b[39m))\n\u001b[1;32m--> 299\u001b[0m     chunk_length \u001b[39m=\u001b[39m sock_info\u001b[39m.\u001b[39;49msock\u001b[39m.\u001b[39;49mrecv_into(mv[bytes_read:])\n\u001b[0;32m    300\u001b[0m \u001b[39mexcept\u001b[39;00m BLOCKING_IO_ERRORS:\n\u001b[0;32m    301\u001b[0m     \u001b[39mraise\u001b[39;00m socket\u001b[39m.\u001b[39mtimeout(\u001b[39m\"\u001b[39m\u001b[39mtimed out\u001b[39m\u001b[39m\"\u001b[39m)\n",
      "\u001b[1;31mKeyboardInterrupt\u001b[0m: "
     ]
    }
   ],
   "source": [
    "# will run tonight:\n",
    "\n",
    "read_from_collection = get_mongo_collection(mongo_db, \"calcium\", \"level_0_nodes\")\n",
    "write_to_collection = get_mongo_collection(mongo_db, \"test\", \"test\")\n",
    "\n",
    "for current_step in tqdm(range(0, 1_000_000, 100)):\n",
    "    results = list(read_from_collection.find({\"step\": current_step}, {\"_id\": 0, \"neuron_id\": 1, **{current_property: 1 for current_property in PROPERTIES}, }))\n",
    "    results.sort(key=lambda x : x['neuron_id'])\n",
    "\n",
    "    big_documents = []\n",
    "    for current_property in PROPERTIES:\n",
    "        big_documents.append({\"step\": current_step, \"property\": current_property, \"values\": list(map(lambda x: x[current_property], results))})\n",
    "    insertion_res = write_to_collection.insert_many(big_documents)\n"
   ]
  },
  {
   "cell_type": "code",
   "execution_count": null,
   "metadata": {},
   "outputs": [],
   "source": []
  }
 ],
 "metadata": {
  "kernelspec": {
   "display_name": "dis-mDRCutPA",
   "language": "python",
   "name": "python3"
  },
  "language_info": {
   "codemirror_mode": {
    "name": "ipython",
    "version": 3
   },
   "file_extension": ".py",
   "mimetype": "text/x-python",
   "name": "python",
   "nbconvert_exporter": "python",
   "pygments_lexer": "ipython3",
   "version": "3.10.5"
  },
  "orig_nbformat": 4
 },
 "nbformat": 4,
 "nbformat_minor": 2
}
