{
 "cells": [
  {
   "cell_type": "code",
   "execution_count": 3,
   "metadata": {},
   "outputs": [],
   "source": [
    "%matplotlib inline\n",
    "import pandas as pd\n",
    "from gqlalchemy import Memgraph\n",
    "from tqdm import tqdm\n",
    "import numpy as np\n",
    "from matplotlib import pyplot as plt\n",
    "import pickle\n",
    "\n",
    "import networkx as nx\n",
    "import tnetwork as tn\n",
    "import tnetwork.DCD.externals\n",
    "from sklearn.preprocessing import OneHotEncoder\n",
    "\n",
    "from scipy.sparse import csr_matrix, vstack, hstack\n",
    "from scipy.sparse.linalg import norm\n",
    "import scipy\n",
    "\n",
    "import Levenshtein as levenshtein\n",
    "\n",
    "from pymongo import MongoClient\n",
    "from networkx.algorithms.similarity import optimize_graph_edit_distance as oged\n",
    "from networkx.algorithms.community import louvain_partitions, louvain_communities"
   ]
  },
  {
   "cell_type": "code",
   "execution_count": 8,
   "metadata": {},
   "outputs": [],
   "source": [
    "# with open(f\"last_step_no_network.pickle\", mode=\"rb\") as file:\n",
    "#     G = pickle.load(file)\n",
    "# Make a connection to the database\n",
    "\n",
    "\n",
    "def get_mongo_db(simulation):\n",
    "    client = MongoClient(\"mongodb://localhost:27017\")\n",
    "    db = client[simulation]\n",
    "    return db\n",
    "\n",
    "\n",
    "def get_timestep(timestep, simulation):\n",
    "    db = get_mongo_db(simulation)[\"level_0_edges\"]\n",
    "    cursor = db.find({\"step\": timestep}, {\"_id\": 0, \"from_id\": 1, \"to_id\": 1, \"weight\": 1})\n",
    "    edges = pd.DataFrame(list(cursor))\n",
    "    G = nx.from_pandas_edgelist(edges, source=\"from_id\", target=\"to_id\", edge_attr=\"weight\", create_using=nx.Graph)\n",
    "    for i in range(50000):\n",
    "        if i not in G.nodes():\n",
    "            G.add_node(i)\n",
    "    return G"
   ]
  },
  {
   "cell_type": "code",
   "execution_count": 9,
   "metadata": {},
   "outputs": [
    {
     "name": "stdout",
     "output_type": "stream",
     "text": [
      "       community_level4  neuron_id\n",
      "0                     0          0\n",
      "1                     0          1\n",
      "2                     0          2\n",
      "3                     0          3\n",
      "4                     0          4\n",
      "...                 ...        ...\n",
      "49995                 8      49995\n",
      "49996                 8      49996\n",
      "49997                 8      49997\n",
      "49998                 8      49998\n",
      "49999                 8      49999\n",
      "\n",
      "[50000 rows x 2 columns]\n"
     ]
    }
   ],
   "source": [
    "client = MongoClient(\"mongodb://localhost:27017\")\n",
    "collection = client[\"brain\"][\"hierarchy\"]\n",
    "cursor = collection.find({}, {\"_id\": 0, \"neuron_id\": 1, \"community_level4\": 1})\n",
    "hierarchy = pd.DataFrame(list(cursor)).drop_duplicates().reset_index(drop=True)\n",
    "print(hierarchy)\n",
    "coms = hierarchy[\"community_level4\"]"
   ]
  },
  {
   "cell_type": "code",
   "execution_count": 6,
   "metadata": {},
   "outputs": [],
   "source": [
    "# partition = [set() for i in range(5000)]\n",
    "# for i in G.nodes():\n",
    "#     partition[i // 10].add(i)"
   ]
  },
  {
   "cell_type": "code",
   "execution_count": 10,
   "metadata": {},
   "outputs": [],
   "source": [
    "def flip_partitioning(partitioning):\n",
    "    nodes = [item for sublist in partitioning.values() for item in sublist]\n",
    "    return dict(zip(nodes, map(lambda x: next(int(k) for k in partitioning.keys() if x in partitioning[k]), nodes)))\n",
    "\n",
    "def unflip_partitioning(partitioning):\n",
    "    return {i: [k for k, v in partitioning.items() if v == i] for i in set(partitioning.values())}\n",
    "\n",
    "coms_dict = dict(zip(range(len(coms)), coms))\n",
    "partition = unflip_partitioning(coms_dict)"
   ]
  },
  {
   "cell_type": "code",
   "execution_count": 12,
   "metadata": {},
   "outputs": [
    {
     "name": "stdout",
     "output_type": "stream",
     "text": [
      "calcium\n"
     ]
    },
    {
     "name": "stderr",
     "output_type": "stream",
     "text": [
      "100%|██████████| 101/101 [19:23<00:00, 11.52s/it]\n"
     ]
    },
    {
     "name": "stdout",
     "output_type": "stream",
     "text": [
      "no_network\n"
     ]
    },
    {
     "name": "stderr",
     "output_type": "stream",
     "text": [
      "100%|██████████| 97/97 [19:14<00:00, 11.90s/it]\n"
     ]
    }
   ],
   "source": [
    "simulations = [\"calcium\", \"no_network\",] # \"disable\", \"stimulus\"]\n",
    "\n",
    "mods = {simulation: [] for simulation in simulations}\n",
    "\n",
    "for simulation in simulations:\n",
    "    print(simulation)\n",
    "    start = 0 if simulation != \"no_network\" else 4\n",
    "    for t in tqdm(range(start, 101)):\n",
    "        G = get_timestep(t * 10000, simulation)\n",
    "        mod = nx.algorithms.community.modularity(G, partition.values())\n",
    "        mods[simulation].append(mod)\n",
    "    if simulation == \"no_network\":\n",
    "        mods[simulation] = [0,0,0,0] + mods[simulation]\n"
   ]
  },
  {
   "cell_type": "code",
   "execution_count": 22,
   "metadata": {},
   "outputs": [],
   "source": [
    "no_network_mods = [0,0,0,0] + mods"
   ]
  },
  {
   "cell_type": "code",
   "execution_count": 13,
   "metadata": {},
   "outputs": [],
   "source": [
    "df = pd.DataFrame({\"no_network\": mods[\"no_network\"], \"calcium\": mods[\"calcium\"]})"
   ]
  },
  {
   "cell_type": "code",
   "execution_count": 16,
   "metadata": {},
   "outputs": [],
   "source": [
    "df.to_csv(\"modularities.csv\")"
   ]
  },
  {
   "cell_type": "code",
   "execution_count": 18,
   "metadata": {},
   "outputs": [
    {
     "name": "stdout",
     "output_type": "stream",
     "text": [
      "     no_network   calcium\n",
      "0      0.000000  0.671210\n",
      "1      0.000000  0.671210\n",
      "2      0.000000  0.671210\n",
      "3      0.000000  0.671210\n",
      "4      0.668492  0.671210\n",
      "..          ...       ...\n",
      "96     0.670924  0.629557\n",
      "97     0.670986  0.629365\n",
      "98     0.671011  0.628952\n",
      "99     0.671124  0.628333\n",
      "100    0.671208  0.628004\n",
      "\n",
      "[101 rows x 2 columns]\n"
     ]
    },
    {
     "data": {
      "image/png": "[encoded data removed]",
      "text/plain": [
       "<Figure size 1000x500 with 1 Axes>"
      ]
     },
     "metadata": {},
     "output_type": "display_data"
    }
   ],
   "source": [
    "fig, ax = plt.subplots(figsize=(10, 5))\n",
    "ax.plot(range(40000, 1_000_001, 10_000), df[\"no_network\"].iloc[4:])\n",
    "print(df)\n",
    "ax.plot(range(1_000_000, 2_000_001, 10_000), df[\"calcium\"])\n",
    "\n",
    "ax.set_xlabel(\"Timestep\")\n",
    "ax.set_ylabel(\"Modularity\")\n",
    "\n",
    "ax.legend([\"No network\", \"Calcium\"])\n",
    "ax.ticklabel_format(useOffset=False, style='plain')\n",
    "\n",
    "plt.show()"
   ]
  }
 ],
 "metadata": {
  "kernelspec": {
   "display_name": "dis-gRFrr5sP",
   "language": "python",
   "name": "python3"
  },
  "language_info": {
   "codemirror_mode": {
    "name": "ipython",
    "version": 3
   },
   "file_extension": ".py",
   "mimetype": "text/x-python",
   "name": "python",
   "nbconvert_exporter": "python",
   "pygments_lexer": "ipython3",
   "version": "3.10.5"
  },
  "orig_nbformat": 4
 },
 "nbformat": 4,
 "nbformat_minor": 2
}
