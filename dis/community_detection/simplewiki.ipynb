{
 "cells": [
  {
   "cell_type": "code",
   "execution_count": 169,
   "metadata": {},
   "outputs": [],
   "source": [
    "import pandas as pd\n",
    "import numpy as np\n",
    "import networkx as nx\n",
    "from tqdm import tqdm\n",
    "from matplotlib import pyplot as plt\n",
    "\n",
    "import tnetwork as tn\n",
    "from tnetwork import DCD\n",
    "import tnetwork.DCD.externals"
   ]
  },
  {
   "cell_type": "code",
   "execution_count": 20,
   "metadata": {},
   "outputs": [
    {
     "name": "stdout",
     "output_type": "stream",
     "text": [
      "1000133972\n"
     ]
    },
    {
     "data": {
      "text/html": [
       "<div>\n",
       "<style scoped>\n",
       "    .dataframe tbody tr th:only-of-type {\n",
       "        vertical-align: middle;\n",
       "    }\n",
       "\n",
       "    .dataframe tbody tr th {\n",
       "        vertical-align: top;\n",
       "    }\n",
       "\n",
       "    .dataframe thead th {\n",
       "        text-align: right;\n",
       "    }\n",
       "</style>\n",
       "<table border=\"1\" class=\"dataframe\">\n",
       "  <thead>\n",
       "    <tr style=\"text-align: right;\">\n",
       "      <th></th>\n",
       "      <th>source</th>\n",
       "      <th>target</th>\n",
       "      <th>added_removed</th>\n",
       "      <th>timestamp</th>\n",
       "    </tr>\n",
       "  </thead>\n",
       "  <tbody>\n",
       "    <tr>\n",
       "      <th>1260824</th>\n",
       "      <td>30055</td>\n",
       "      <td>30025</td>\n",
       "      <td>-1</td>\n",
       "      <td>0</td>\n",
       "    </tr>\n",
       "    <tr>\n",
       "      <th>1477308</th>\n",
       "      <td>12809</td>\n",
       "      <td>8225</td>\n",
       "      <td>-1</td>\n",
       "      <td>1933117</td>\n",
       "    </tr>\n",
       "    <tr>\n",
       "      <th>1477307</th>\n",
       "      <td>12809</td>\n",
       "      <td>614</td>\n",
       "      <td>-1</td>\n",
       "      <td>1933117</td>\n",
       "    </tr>\n",
       "    <tr>\n",
       "      <th>1477306</th>\n",
       "      <td>12809</td>\n",
       "      <td>5389</td>\n",
       "      <td>-1</td>\n",
       "      <td>1933117</td>\n",
       "    </tr>\n",
       "    <tr>\n",
       "      <th>1477305</th>\n",
       "      <td>12809</td>\n",
       "      <td>1340</td>\n",
       "      <td>-1</td>\n",
       "      <td>1933117</td>\n",
       "    </tr>\n",
       "    <tr>\n",
       "      <th>1477309</th>\n",
       "      <td>12809</td>\n",
       "      <td>1340</td>\n",
       "      <td>1</td>\n",
       "      <td>2206518</td>\n",
       "    </tr>\n",
       "    <tr>\n",
       "      <th>1477310</th>\n",
       "      <td>12809</td>\n",
       "      <td>5389</td>\n",
       "      <td>1</td>\n",
       "      <td>2206518</td>\n",
       "    </tr>\n",
       "    <tr>\n",
       "      <th>74817</th>\n",
       "      <td>6994</td>\n",
       "      <td>2949</td>\n",
       "      <td>1</td>\n",
       "      <td>2411288</td>\n",
       "    </tr>\n",
       "    <tr>\n",
       "      <th>74813</th>\n",
       "      <td>6994</td>\n",
       "      <td>6995</td>\n",
       "      <td>1</td>\n",
       "      <td>2411288</td>\n",
       "    </tr>\n",
       "    <tr>\n",
       "      <th>74814</th>\n",
       "      <td>6994</td>\n",
       "      <td>2943</td>\n",
       "      <td>1</td>\n",
       "      <td>2411288</td>\n",
       "    </tr>\n",
       "  </tbody>\n",
       "</table>\n",
       "</div>"
      ],
      "text/plain": [
       "         source  target  added_removed  timestamp\n",
       "1260824   30055   30025             -1          0\n",
       "1477308   12809    8225             -1    1933117\n",
       "1477307   12809     614             -1    1933117\n",
       "1477306   12809    5389             -1    1933117\n",
       "1477305   12809    1340             -1    1933117\n",
       "1477309   12809    1340              1    2206518\n",
       "1477310   12809    5389              1    2206518\n",
       "74817      6994    2949              1    2411288\n",
       "74813      6994    6995              1    2411288\n",
       "74814      6994    2943              1    2411288"
      ]
     },
     "execution_count": 20,
     "metadata": {},
     "output_type": "execute_result"
    }
   ],
   "source": [
    "df = pd.read_csv(\"simplewiki/out.link-dynamic-simplewiki\", sep=\" \", comment=\"%\", names=[\"source\", \"target\", \"added_removed\", \"timestamp\"])\n",
    "print(df[\"timestamp\"].min())\n",
    "df[\"timestamp\"] -= df[\"timestamp\"].min()\n",
    "df.sort_values(by=\"timestamp\", inplace=True)\n",
    "timedelta = df[\"timestamp\"].max() - df[\"timestamp\"].min()\n",
    "\n",
    "\n",
    "\n"
   ]
  },
  {
   "cell_type": "code",
   "execution_count": 176,
   "metadata": {},
   "outputs": [],
   "source": [
    "def prune_graph(G):\n",
    "    prev_shape = None\n",
    "    shape = (len(G.nodes()), len(G.edges()))\n",
    "    while prev_shape != shape:\n",
    "        prev_shape = shape\n",
    "        removed_nodes = set()\n",
    "        for node in G.nodes():\n",
    "            if G.out_degree(node) == 0 or G.in_degree(node) == 0:\n",
    "                removed_nodes.add(node)\n",
    "        G.remove_nodes_from(removed_nodes)\n",
    "        shape = (len(G.nodes()), len(G.edges()))\n",
    "    return G"
   ]
  },
  {
   "cell_type": "code",
   "execution_count": 172,
   "metadata": {},
   "outputs": [],
   "source": [
    "def largest_componenst(G):\n",
    "    largest_cc = max(nx.weakly_connected_components(G), key=len)\n",
    "    return G.subgraph(largest_cc)"
   ]
  },
  {
   "cell_type": "code",
   "execution_count": 195,
   "metadata": {},
   "outputs": [
    {
     "name": "stderr",
     "output_type": "stream",
     "text": [
      "100%|██████████| 101/101 [01:03<00:00,  1.58it/s]\n"
     ]
    }
   ],
   "source": [
    "G = nx.DiGraph()\n",
    "DG = tn.DynGraphSN()\n",
    "\n",
    "splits = 100\n",
    "t = 0\n",
    "for i in tqdm(range(0, df.shape[0], df.shape[0] // splits)):\n",
    "    G = G.copy()\n",
    "    sub_df = df.iloc[i: i + df.shape[0] // splits]\n",
    "    for _, row in sub_df.iterrows():\n",
    "        if row[\"added_removed\"] > 0:\n",
    "            G.add_edge(row[\"source\"], row[\"target\"])\n",
    "        else:\n",
    "            try:\n",
    "                G.remove_edge(row[\"source\"], row[\"target\"])\n",
    "            except nx.NetworkXError:\n",
    "                pass\n",
    "    G = prune_graph(G)\n",
    "    G = largest_componenst(G)\n",
    "    DG.add_snapshot(t, G)\n",
    "    t += 1\n"
   ]
  },
  {
   "cell_type": "code",
   "execution_count": 198,
   "metadata": {},
   "outputs": [
    {
     "data": {
      "text/plain": [
       "(14431, 138415)"
      ]
     },
     "execution_count": 198,
     "metadata": {},
     "output_type": "execute_result"
    }
   ],
   "source": [
    "snapshot = DG.snapshots(50)\n",
    "snapshot.number_of_nodes(), snapshot.size()"
   ]
  },
  {
   "cell_type": "code",
   "execution_count": 194,
   "metadata": {},
   "outputs": [
    {
     "name": "stdout",
     "output_type": "stream",
     "text": [
      "1250 15072\n",
      "1266 15370\n",
      "1291 15662\n",
      "1305 15838\n",
      "1317 16107\n"
     ]
    },
    {
     "data": {
      "text/plain": [
       "[]"
      ]
     },
     "execution_count": 194,
     "metadata": {},
     "output_type": "execute_result"
    },
    {
     "data": {
      "image/png": "[encoded data removed]",
      "text/plain": [
       "<Figure size 640x480 with 5 Axes>"
      ]
     },
     "metadata": {},
     "output_type": "display_data"
    }
   ],
   "source": [
    "from_, to = 60, 65\n",
    "fig, axs = plt.subplots(1, to - from_)\n",
    "for i in range(from_, to):\n",
    "    snapshot = DG.snapshots(i)\n",
    "    print(snapshot.number_of_nodes(), snapshot.size())\n",
    "    nx.draw(snapshot, pos=nx.spring_layout(snapshot), node_size=10, arrowsize=5, width=0.6, ax=axs[i - from_])\n",
    "plt.plot()\n",
    "# plt.savefig(\"wiki.png\")"
   ]
  },
  {
   "cell_type": "code",
   "execution_count": null,
   "metadata": {},
   "outputs": [],
   "source": [
    "DCD.label_smoothing(DG)\n"
   ]
  }
 ],
 "metadata": {
  "kernelspec": {
   "display_name": "dis-7zdFBRQQ",
   "language": "python",
   "name": "python3"
  },
  "language_info": {
   "codemirror_mode": {
    "name": "ipython",
    "version": 3
   },
   "file_extension": ".py",
   "mimetype": "text/x-python",
   "name": "python",
   "nbconvert_exporter": "python",
   "pygments_lexer": "ipython3",
   "version": "3.10.11"
  },
  "orig_nbformat": 4
 },
 "nbformat": 4,
 "nbformat_minor": 2
}
